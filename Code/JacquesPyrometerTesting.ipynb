{
 "cells": [
  {
   "cell_type": "markdown",
   "id": "92c613b1",
   "metadata": {},
   "source": [
    "# Jacques Pyrometer Testing"
   ]
  },
  {
   "cell_type": "code",
   "execution_count": 1,
   "id": "2770c85b",
   "metadata": {},
   "outputs": [
    {
     "name": "stdout",
     "output_type": "stream",
     "text": [
      "MinimalModbus debug mode. Create serial port COM3\n",
      "MinimalModbus debug mode. Will write to instrument (expecting 7 bytes back): 01 03 00 03 00 01 74 0A (8 bytes)\n",
      "MinimalModbus debug mode. Clearing serial buffers for port COM3\n",
      "MinimalModbus debug mode. No sleep required before write. Time since previous read: 302520421.00 ms, minimum silent period: 1.75 ms.\n",
      "MinimalModbus debug mode. Response from instrument:  (0 bytes), roundtrip time: 0.0 ms. Timeout for reading: 50.0 ms.\n",
      "\n"
     ]
    },
    {
     "ename": "NoResponseError",
     "evalue": "No communication with the instrument (no answer)",
     "output_type": "error",
     "traceback": [
      "\u001b[31m---------------------------------------------------------------------------\u001b[39m",
      "\u001b[31mNoResponseError\u001b[39m                           Traceback (most recent call last)",
      "\u001b[36mCell\u001b[39m\u001b[36m \u001b[39m\u001b[32mIn[1]\u001b[39m\u001b[32m, line 19\u001b[39m\n\u001b[32m     16\u001b[39m instrument.clear_buffers_before_each_transaction = \u001b[38;5;28;01mTrue\u001b[39;00m\n\u001b[32m     17\u001b[39m \u001b[38;5;66;03m# print(instrument.read_register(289, 1))\u001b[39;00m\n\u001b[32m     18\u001b[39m \u001b[38;5;66;03m## Read temperature (PV = ProcessValue) ##\u001b[39;00m\n\u001b[32m---> \u001b[39m\u001b[32m19\u001b[39m temperature = \u001b[43minstrument\u001b[49m\u001b[43m.\u001b[49m\u001b[43mread_register\u001b[49m\u001b[43m(\u001b[49m\u001b[32;43m3\u001b[39;49m\u001b[43m,\u001b[49m\u001b[43m \u001b[49m\u001b[32;43m3\u001b[39;49m\u001b[43m)\u001b[49m  \u001b[38;5;66;03m# Registernumber, number of decimals\u001b[39;00m\n\u001b[32m     20\u001b[39m \u001b[38;5;66;03m# print(temperature)\u001b[39;00m\n\u001b[32m     21\u001b[39m \u001b[38;5;66;03m# 01 03 00 01 00 01 D5 CA (8 bytes)\u001b[39;00m\n\u001b[32m     22\u001b[39m \u001b[38;5;66;03m# 01 03 00 02 00 01 25 CA\u001b[39;00m\n\u001b[32m     23\u001b[39m \u001b[38;5;66;03m# 01 03 00 03 00 01 74 0A\u001b[39;00m\n",
      "\u001b[36mFile \u001b[39m\u001b[32mc:\\Users\\Lab10\\anaconda3\\envs\\py311\\Lib\\site-packages\\minimalmodbus.py:484\u001b[39m, in \u001b[36mInstrument.read_register\u001b[39m\u001b[34m(self, registeraddress, number_of_decimals, functioncode, signed)\u001b[39m\n\u001b[32m    477\u001b[39m _check_int(\n\u001b[32m    478\u001b[39m     number_of_decimals,\n\u001b[32m    479\u001b[39m     minvalue=\u001b[32m0\u001b[39m,\n\u001b[32m    480\u001b[39m     maxvalue=_MAX_NUMBER_OF_DECIMALS,\n\u001b[32m    481\u001b[39m     description=\u001b[33m\"\u001b[39m\u001b[33mnumber of decimals\u001b[39m\u001b[33m\"\u001b[39m,\n\u001b[32m    482\u001b[39m )\n\u001b[32m    483\u001b[39m _check_bool(signed, description=\u001b[33m\"\u001b[39m\u001b[33msigned\u001b[39m\u001b[33m\"\u001b[39m)\n\u001b[32m--> \u001b[39m\u001b[32m484\u001b[39m returnvalue = \u001b[38;5;28;43mself\u001b[39;49m\u001b[43m.\u001b[49m\u001b[43m_generic_command\u001b[49m\u001b[43m(\u001b[49m\n\u001b[32m    485\u001b[39m \u001b[43m    \u001b[49m\u001b[43mfunctioncode\u001b[49m\u001b[43m,\u001b[49m\n\u001b[32m    486\u001b[39m \u001b[43m    \u001b[49m\u001b[43mregisteraddress\u001b[49m\u001b[43m,\u001b[49m\n\u001b[32m    487\u001b[39m \u001b[43m    \u001b[49m\u001b[43mnumber_of_decimals\u001b[49m\u001b[43m=\u001b[49m\u001b[43mnumber_of_decimals\u001b[49m\u001b[43m,\u001b[49m\n\u001b[32m    488\u001b[39m \u001b[43m    \u001b[49m\u001b[43mnumber_of_registers\u001b[49m\u001b[43m=\u001b[49m\u001b[32;43m1\u001b[39;49m\u001b[43m,\u001b[49m\n\u001b[32m    489\u001b[39m \u001b[43m    \u001b[49m\u001b[43msigned\u001b[49m\u001b[43m=\u001b[49m\u001b[43msigned\u001b[49m\u001b[43m,\u001b[49m\n\u001b[32m    490\u001b[39m \u001b[43m    \u001b[49m\u001b[43mpayloadformat\u001b[49m\u001b[43m=\u001b[49m\u001b[43m_Payloadformat\u001b[49m\u001b[43m.\u001b[49m\u001b[43mREGISTER\u001b[49m\u001b[43m,\u001b[49m\n\u001b[32m    491\u001b[39m \u001b[43m\u001b[49m\u001b[43m)\u001b[49m\n\u001b[32m    492\u001b[39m \u001b[38;5;28;01mif\u001b[39;00m \u001b[38;5;28mint\u001b[39m(returnvalue) == returnvalue:\n\u001b[32m    493\u001b[39m     \u001b[38;5;28;01mreturn\u001b[39;00m \u001b[38;5;28mint\u001b[39m(returnvalue)\n",
      "\u001b[36mFile \u001b[39m\u001b[32mc:\\Users\\Lab10\\anaconda3\\envs\\py311\\Lib\\site-packages\\minimalmodbus.py:1276\u001b[39m, in \u001b[36mInstrument._generic_command\u001b[39m\u001b[34m(self, functioncode, registeraddress, value, number_of_decimals, number_of_registers, number_of_bits, signed, byteorder, payloadformat)\u001b[39m\n\u001b[32m   1263\u001b[39m payload_to_slave = _create_payload(\n\u001b[32m   1264\u001b[39m     functioncode,\n\u001b[32m   1265\u001b[39m     registeraddress,\n\u001b[32m   (...)\u001b[39m\u001b[32m   1272\u001b[39m     payloadformat,\n\u001b[32m   1273\u001b[39m )\n\u001b[32m   1275\u001b[39m \u001b[38;5;66;03m# Communicate with instrument\u001b[39;00m\n\u001b[32m-> \u001b[39m\u001b[32m1276\u001b[39m payload_from_slave = \u001b[38;5;28;43mself\u001b[39;49m\u001b[43m.\u001b[49m\u001b[43m_perform_command\u001b[49m\u001b[43m(\u001b[49m\u001b[43mfunctioncode\u001b[49m\u001b[43m,\u001b[49m\u001b[43m \u001b[49m\u001b[43mpayload_to_slave\u001b[49m\u001b[43m)\u001b[49m\n\u001b[32m   1278\u001b[39m \u001b[38;5;66;03m# There is no response for broadcasts\u001b[39;00m\n\u001b[32m   1279\u001b[39m \u001b[38;5;28;01mif\u001b[39;00m \u001b[38;5;28mself\u001b[39m.address == _SLAVEADDRESS_BROADCAST:\n",
      "\u001b[36mFile \u001b[39m\u001b[32mc:\\Users\\Lab10\\anaconda3\\envs\\py311\\Lib\\site-packages\\minimalmodbus.py:1353\u001b[39m, in \u001b[36mInstrument._perform_command\u001b[39m\u001b[34m(self, functioncode, payload_to_slave)\u001b[39m\n\u001b[32m   1346\u001b[39m             \u001b[38;5;28mself\u001b[39m._print_debug(\n\u001b[32m   1347\u001b[39m                 template.format(\n\u001b[32m   1348\u001b[39m                     \u001b[38;5;28mself\u001b[39m.mode, number_of_bytes_to_read, request_bytes\n\u001b[32m   1349\u001b[39m                 )\n\u001b[32m   1350\u001b[39m             )\n\u001b[32m   1352\u001b[39m \u001b[38;5;66;03m# Communicate\u001b[39;00m\n\u001b[32m-> \u001b[39m\u001b[32m1353\u001b[39m response_bytes = \u001b[38;5;28;43mself\u001b[39;49m\u001b[43m.\u001b[49m\u001b[43m_communicate\u001b[49m\u001b[43m(\u001b[49m\u001b[43mrequest_bytes\u001b[49m\u001b[43m,\u001b[49m\u001b[43m \u001b[49m\u001b[43mnumber_of_bytes_to_read\u001b[49m\u001b[43m)\u001b[49m\n\u001b[32m   1355\u001b[39m \u001b[38;5;28;01mif\u001b[39;00m number_of_bytes_to_read == \u001b[32m0\u001b[39m:\n\u001b[32m   1356\u001b[39m     \u001b[38;5;28;01mreturn\u001b[39;00m \u001b[33mb\u001b[39m\u001b[33m\"\u001b[39m\u001b[33m\"\u001b[39m\n",
      "\u001b[36mFile \u001b[39m\u001b[32mc:\\Users\\Lab10\\anaconda3\\envs\\py311\\Lib\\site-packages\\minimalmodbus.py:1521\u001b[39m, in \u001b[36mInstrument._communicate\u001b[39m\u001b[34m(self, request, number_of_bytes_to_read)\u001b[39m\n\u001b[32m   1518\u001b[39m     \u001b[38;5;28mself\u001b[39m._print_debug(text)\n\u001b[32m   1520\u001b[39m \u001b[38;5;28;01mif\u001b[39;00m \u001b[38;5;129;01mnot\u001b[39;00m answer \u001b[38;5;129;01mand\u001b[39;00m number_of_bytes_to_read > \u001b[32m0\u001b[39m:\n\u001b[32m-> \u001b[39m\u001b[32m1521\u001b[39m     \u001b[38;5;28;01mraise\u001b[39;00m NoResponseError(\u001b[33m\"\u001b[39m\u001b[33mNo communication with the instrument (no answer)\u001b[39m\u001b[33m\"\u001b[39m)\n\u001b[32m   1523\u001b[39m \u001b[38;5;28;01mif\u001b[39;00m number_of_bytes_to_read == \u001b[32m0\u001b[39m:\n\u001b[32m   1524\u001b[39m     \u001b[38;5;28mself\u001b[39m._print_debug(\n\u001b[32m   1525\u001b[39m         \u001b[33m\"\u001b[39m\u001b[33mBroadcast delay: Sleeping for \u001b[39m\u001b[38;5;132;01m{}\u001b[39;00m\u001b[33m s\u001b[39m\u001b[33m\"\u001b[39m.format(_BROADCAST_DELAY)\n\u001b[32m   1526\u001b[39m     )\n",
      "\u001b[31mNoResponseError\u001b[39m: No communication with the instrument (no answer)"
     ]
    }
   ],
   "source": [
    "#!/usr/bin/env python3\n",
    "import minimalmodbus\n",
    "import serial\n",
    "\n",
    "instrument = minimalmodbus.Instrument('COM3', 1, debug = True)  # port name, slave address (in decimal)\n",
    "\n",
    "instrument.serial.port = 'COM3'                     # this is the serial port name\n",
    "instrument.serial.baudrate = 115200         # Baud\n",
    "# instrument.serial.baudrate = 950         # Baud\n",
    "instrument.serial.bytesize = 8\n",
    "instrument.serial.parity   = serial.PARITY_NONE\n",
    "instrument.serial.stopbits = 1\n",
    "instrument.serial.timeout  = 0.05          # seconds\n",
    "\n",
    "instrument.mode = minimalmodbus.MODE_RTU   # rtu or ascii mode\n",
    "instrument.clear_buffers_before_each_transaction = True\n",
    "# print(instrument.read_register(289, 1))\n",
    "## Read temperature (PV = ProcessValue) ##\n",
    "temperature = instrument.read_register(3, 3)  # Registernumber, number of decimals\n",
    "# print(temperature)\n",
    "# 01 03 00 01 00 01 D5 CA (8 bytes)\n",
    "# 01 03 00 02 00 01 25 CA\n",
    "# 01 03 00 03 00 01 74 0A\n"
   ]
  },
  {
   "cell_type": "code",
   "execution_count": null,
   "id": "73dd8165",
   "metadata": {},
   "outputs": [
    {
     "name": "stdout",
     "output_type": "stream",
     "text": [
      "Sent: ['0x2', '0x4d', '0x4d', '0x3']\n",
      "Received: 02 4D 4D 03\n",
      "Sent: ['0x2', '0x56', '0x56', '0x3']\n",
      "Received: 02 56 56 03\n",
      "Sent: ['0x2', '0x31', '0x31', '0x3']\n",
      "Received: 02 31 31 03\n"
     ]
    }
   ],
   "source": [
    "import serial\n",
    "import time\n",
    "\n",
    "# Open COM4 at 9600 baud, 8N1 (no parity, 1 stop bit)\n",
    "ser = serial.Serial(\n",
    "    port=\"COM3\",\n",
    "    baudrate=115200,\n",
    "    bytesize=serial.EIGHTBITS,\n",
    "    parity=serial.PARITY_NONE,\n",
    "    stopbits=serial.STOPBITS_ONE,\n",
    "    timeout=1  # 1 second read timeout\n",
    ")\n",
    "\n",
    "def send_command(command_bytes, expect_response=True):\n",
    "    \"\"\"Send a list of bytes and optionally read back a response.\"\"\"\n",
    "    ser.write(bytes(command_bytes))\n",
    "    print(f\"Sent: {[hex(b) for b in command_bytes]}\")\n",
    "\n",
    "    if expect_response:\n",
    "        time.sleep(0.1)  # wait a little for device to respond\n",
    "        response = ser.read(100)  # read up to 100 bytes\n",
    "        print(\"Received:\", response.hex(\" \").upper())\n",
    "        return response\n",
    "    else:\n",
    "        print(\"No response expected.\")\n",
    "        return None\n",
    "\n",
    "# --- Example 1: Switch to Modbus Mode (no response expected)\n",
    "send_command([0x02, 0x4D, 0x4D, 0x03])\n",
    "\n",
    "# --- Example 2: Report Version (expects a response)\n",
    "send_command([0x02, 0x56, 0x56, 0x03])\n",
    "# 02 31 31 03\n",
    "send_command([0x02, 0x31, 0x31, 0x03])\n",
    "ser.close()\n"
   ]
  },
  {
   "cell_type": "code",
   "execution_count": 4,
   "id": "ab220cad",
   "metadata": {},
   "outputs": [
    {
     "name": "stdout",
     "output_type": "stream",
     "text": [
      "Sent: 02 31 31 03\n",
      "Reading for 5 seconds...\n",
      "Received: 02 31 31 03\n"
     ]
    }
   ],
   "source": [
    "import serial\n",
    "import time\n",
    "\n",
    "ser = serial.Serial(\n",
    "    port='COM3',\n",
    "    baudrate=115200,\n",
    "    bytesize=8,\n",
    "    parity='N',\n",
    "    stopbits=1,\n",
    "    timeout=0.1\n",
    ")\n",
    "\n",
    "cmd = bytes([0x02, 0x31, 0x31, 0x03])\n",
    "ser.write(cmd)\n",
    "print(\"Sent:\", ' '.join(f'{b:02X}' for b in cmd))\n",
    "\n",
    "print(\"Reading for 5 seconds...\")\n",
    "end_time = time.time() + 5\n",
    "while time.time() < end_time:\n",
    "    response = ser.read(100)\n",
    "    if response:\n",
    "        print(\"Received:\", ' '.join(f'{b:02X}' for b in response))\n",
    "\n",
    "ser.close()\n"
   ]
  }
 ],
 "metadata": {
  "kernelspec": {
   "display_name": "py311",
   "language": "python",
   "name": "python3"
  },
  "language_info": {
   "codemirror_mode": {
    "name": "ipython",
    "version": 3
   },
   "file_extension": ".py",
   "mimetype": "text/x-python",
   "name": "python",
   "nbconvert_exporter": "python",
   "pygments_lexer": "ipython3",
   "version": "3.11.13"
  }
 },
 "nbformat": 4,
 "nbformat_minor": 5
}

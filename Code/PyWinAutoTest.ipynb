{
 "cells": [
  {
   "cell_type": "markdown",
   "id": "735b88a9",
   "metadata": {},
   "source": [
    "## Reading temperature directly from the TemperaSure Application"
   ]
  },
  {
   "cell_type": "code",
   "execution_count": 23,
   "id": "107a2312",
   "metadata": {},
   "outputs": [
    {
     "name": "stdout",
     "output_type": "stream",
     "text": [
      "Temperature: 165.00\n"
     ]
    }
   ],
   "source": [
    "from pywinauto.application import Application\n",
    "\n",
    "app = Application(backend='uia').start(r\"C:\\Users\\Lab10\\Desktop\\TemperaSure.exe\").connect(title = r'BASF TemperaSure 5.7.0.4 Advanced Mode')\n",
    "# .start(r\"C:\\Users\\Lab10\\Desktop\\TemperaSure.exe\")\n",
    "dlg = app.window(title = r'BASF TemperaSure 5.7.0.4 Advanced Mode')\n",
    "\n",
    "# Print all controls recursively\n",
    "# dlg.print_control_identifiers()\n",
    "# Find the toolbar containing the temperature (ToolBar2)\n",
    "toolbar2 = dlg.child_window(control_type=\"ToolBar\", title_re=\"ToolBar2\")\n",
    "\n",
    "# Find all Edit controls inside this toolbar\n",
    "edit_controls = toolbar2.children(control_type=\"Edit\")\n",
    "\n",
    "# If there’s only one Edit control, assume it’s the temperature\n",
    "if edit_controls:\n",
    "    temp_edit = edit_controls[0]\n",
    "    temperature = temp_edit.get_value()\n",
    "    print(\"Temperature:\", temperature)\n",
    "else:\n",
    "    print(\"No Edit control found in ToolBar2\")\n"
   ]
  },
  {
   "cell_type": "markdown",
   "id": "a8611024",
   "metadata": {},
   "source": [
    "## Start pyrometer"
   ]
  },
  {
   "cell_type": "code",
   "execution_count": 13,
   "id": "dca854cc",
   "metadata": {},
   "outputs": [
    {
     "name": "stdout",
     "output_type": "stream",
     "text": [
      "starting BASF pyrometer software\n",
      "clicked the ok button\n",
      "clicked the start button\n"
     ]
    }
   ],
   "source": [
    "from pywinauto.application import Application\n",
    "import time\n",
    "\n",
    "try:\n",
    "    app = Application(backend='uia').connect(title = r'BASF TemperaSure 5.7.0.4 Advanced Mode')\n",
    "    # time.sleep(1)\n",
    "    app.kill()\n",
    "except:\n",
    "    print('BASF Pyrometer software currently not running')\n",
    "\n",
    "print('starting BASF pyrometer software')\n",
    "app = Application(backend='uia').start(r\"C:\\Users\\Lab10\\Desktop\\TemperaSure.exe\")\n",
    "time.sleep(6)\n",
    "main = app.window(title = r'BASF TemperaSure 5.7.0.4 Advanced Mode')\n",
    "# dlg = app.window(title=\"Port setup\") \n",
    "# main.print_control_identifiers()\n",
    "port = main.child_window(title=\"Port setup\", control_type=\"Window\")\n",
    "# dlg = app.window(title=\"Port setup\")  \n",
    "# dlg.wait(\"visible enabled\", timeout=2)\n",
    "\n",
    "# # Step 2: Click the OK button\n",
    "# # Most dialogs have a button literally called \"OK\"\n",
    "# dlg[\"OK\"].click()\n",
    "\n",
    "try:\n",
    "    port.set_focus()\n",
    "    port.type_keys(\"{ENTER}\")\n",
    "    print('clicked the ok button')\n",
    "    time.sleep(5)\n",
    "except Exception:\n",
    "    print('was not able to click the ok button')\n",
    "    pass\n",
    "\n",
    "# Try to click start button\n",
    "# main.print_control_identifiers()\n",
    "try:\n",
    "    main.child_window(title=\"Start\", control_type=\"Button\").click_input()\n",
    "    print('clicked the start button')\n",
    "except:\n",
    "    print('was unable to click the start button')\n"
   ]
  },
  {
   "cell_type": "code",
   "execution_count": null,
   "id": "20633dfe",
   "metadata": {},
   "outputs": [],
   "source": [
    "from time import sleep\n",
    "from pywinauto import Application, Desktop\n",
    "from pywinauto.timings import TimeoutError as PywinautoTimeoutError\n",
    "\n",
    "EXE = r\"C:\\Users\\Lab10\\Desktop\\TemperaSure.exe\"\n",
    "MAIN_TITLE = \"BASF TemperaSure 5.7.0.4 Advanced Mode\"\n",
    "\n",
    "def click_ok_on_port_popup(exe_path=EXE, backend=\"uia\"):\n",
    "    # 1) Start the app (backend A)\n",
    "    app = Application(backend=backend).start(exe_path)\n",
    "\n",
    "    # Optional: give the app a moment to spin up\n",
    "    try:\n",
    "        app.wait_cpu_usage_lower(threshold=5, timeout=10)\n",
    "    except Exception:\n",
    "        pass\n",
    "\n",
    "    pid = app.process\n",
    "\n",
    "    # Helper to try clicking OK on any \"Port\" dialog for a given backend\n",
    "    def _try_backend(bk: str) -> bool:\n",
    "        dsk = Desktop(backend=bk)\n",
    "\n",
    "        # Try a few common title patterns\n",
    "        title_patterns = [r\".*Port.*\", r\".*Port setup.*\", r\".*Select.*Port.*\", r\".*COM.*\"]\n",
    "        for pat in title_patterns:\n",
    "            try:\n",
    "                dlg = dsk.window(title_re=pat, process=pid, control_type=\"Window\")\n",
    "                dlg.wait(\"exists visible enabled\", timeout=8)\n",
    "                # Try the obvious OK button\n",
    "                try:\n",
    "                    dlg.child_window(title=\"OK\", control_type=\"Button\").wrapper_object().click_input()\n",
    "                    return True\n",
    "                except Exception:\n",
    "                    pass\n",
    "                # Fallbacks: first button, or press Enter\n",
    "                try:\n",
    "                    ok_btn = dlg.child_window(control_type=\"Button\", found_index=0).wrapper_object()\n",
    "                    ok_btn.click_input()\n",
    "                    return True\n",
    "                except Exception:\n",
    "                    pass\n",
    "\n",
    "                try:\n",
    "                    dlg.set_focus()\n",
    "                    dlg.type_keys(\"{ENTER}\")\n",
    "                    return True\n",
    "                except Exception:\n",
    "                    pass\n",
    "            except PywinautoTimeoutError:\n",
    "                continue\n",
    "            except Exception:\n",
    "                continue\n",
    "        return False\n",
    "\n",
    "    # 2) Try UIA first\n",
    "    if not _try_backend(\"uia\"):\n",
    "        # 3) If that didn’t work, try Win32 (some dialogs only expose Win32)\n",
    "        _try_backend(\"win32\")\n",
    "\n",
    "    # 4) Attach to main window (optional)\n",
    "    try:\n",
    "        win = app.window(title=MAIN_TITLE)\n",
    "        win.wait(\"visible enabled\", timeout=20)\n",
    "    except Exception:\n",
    "        pass\n",
    "\n",
    "    return app\n",
    "\n",
    "# --- usage ---\n",
    "app = click_ok_on_port_popup()"
   ]
  }
 ],
 "metadata": {
  "kernelspec": {
   "display_name": "py311",
   "language": "python",
   "name": "python3"
  },
  "language_info": {
   "codemirror_mode": {
    "name": "ipython",
    "version": 3
   },
   "file_extension": ".py",
   "mimetype": "text/x-python",
   "name": "python",
   "nbconvert_exporter": "python",
   "pygments_lexer": "ipython3",
   "version": "3.11.13"
  }
 },
 "nbformat": 4,
 "nbformat_minor": 5
}

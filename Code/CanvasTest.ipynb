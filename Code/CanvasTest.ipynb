{
 "cells": [
  {
   "cell_type": "markdown",
   "id": "0489c40c",
   "metadata": {},
   "source": [
    "## Test if figure to pixmap works outside of thread"
   ]
  },
  {
   "cell_type": "code",
   "execution_count": 3,
   "id": "b492e6e0",
   "metadata": {},
   "outputs": [
    {
     "name": "stderr",
     "output_type": "stream",
     "text": [
      "c:\\Users\\Lab10\\anaconda3\\envs\\py311\\Lib\\site-packages\\pywinauto\\__init__.py:80: UserWarning: Revert to STA COM threading mode\n",
      "  warnings.warn(\"Revert to STA COM threading mode\", UserWarning)\n"
     ]
    }
   ],
   "source": [
    "\n",
    "import sys\n",
    "import time\n",
    "import os\n",
    "import datetime\n",
    "import threading\n",
    "\n",
    "import numpy as np\n",
    "import collections\n",
    "from PySide6 import QtCore, QtGui, QtWidgets\n",
    "from vmbpy import VmbSystem, Camera, Stream, Frame\n",
    "from layout_colorwidget import Color\n",
    "from PyrometerControl import get_pyrometer_temperature, start_pyrometer\n",
    "from matplotlib.backends.backend_qtagg import FigureCanvasQTAgg as FigureCanvas\n",
    "from matplotlib.figure import Figure\n",
    "from GetOscillationPlot import obtain_pixmap\n",
    "\n",
    "from matplotlib.backends.backend_qtagg import NavigationToolbar2QT as NavigationToolbar"
   ]
  },
  {
   "cell_type": "code",
   "execution_count": 4,
   "id": "306fea93",
   "metadata": {},
   "outputs": [
    {
     "name": "stdout",
     "output_type": "stream",
     "text": [
      "initialized fig\n",
      "initialized canvas\n",
      "1\n",
      "2\n",
      "3\n",
      "4\n",
      "5\n",
      "drew canvas\n",
      "1\n",
      "2\n",
      "3\n",
      "4\n",
      "5\n",
      "initialized qimage\n"
     ]
    }
   ],
   "source": [
    "\n",
    "plot_pixmap = obtain_pixmap()"
   ]
  },
  {
   "cell_type": "code",
   "execution_count": 1,
   "id": "2de8906b",
   "metadata": {},
   "outputs": [
    {
     "ename": "SystemExit",
     "evalue": "0",
     "output_type": "error",
     "traceback": [
      "An exception has occurred, use %tb to see the full traceback.\n",
      "\u001b[31mSystemExit\u001b[39m\u001b[31m:\u001b[39m 0\n"
     ]
    },
    {
     "name": "stderr",
     "output_type": "stream",
     "text": [
      "c:\\Users\\Lab10\\anaconda3\\envs\\py311\\Lib\\site-packages\\IPython\\core\\interactiveshell.py:3675: UserWarning: To exit: use 'exit', 'quit', or Ctrl-D.\n",
      "  warn(\"To exit: use 'exit', 'quit', or Ctrl-D.\", stacklevel=1)\n"
     ]
    }
   ],
   "source": [
    "import sys\n",
    "from PySide6 import QtWidgets, QtGui\n",
    "\n",
    "app = QtWidgets.QApplication(sys.argv)\n",
    "\n",
    "# Make a window\n",
    "window = QtWidgets.QWidget()\n",
    "window.setWindowTitle(\"Pixmap Example\")\n",
    "\n",
    "# Create a label\n",
    "label = QtWidgets.QLabel(window)\n",
    "\n",
    "# Load a pixmap from file (PNG, JPG, etc.)\n",
    "pixmap = QtGui.QPixmap(r\"C:\\Users\\Lab10\\Pictures\\Screenshots\\Screenshot (1).png\")   # path to your image\n",
    "\n",
    "# Put the pixmap in the label\n",
    "label.setPixmap(pixmap)\n",
    "\n",
    "# Optionally, resize the label to the pixmap size\n",
    "label.resize(pixmap.size())\n",
    "\n",
    "window.show()\n",
    "sys.exit(app.exec())\n"
   ]
  }
 ],
 "metadata": {
  "kernelspec": {
   "display_name": "py311",
   "language": "python",
   "name": "python3"
  },
  "language_info": {
   "codemirror_mode": {
    "name": "ipython",
    "version": 3
   },
   "file_extension": ".py",
   "mimetype": "text/x-python",
   "name": "python",
   "nbconvert_exporter": "python",
   "pygments_lexer": "ipython3",
   "version": "3.11.13"
  }
 },
 "nbformat": 4,
 "nbformat_minor": 5
}

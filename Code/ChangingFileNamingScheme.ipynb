{
 "cells": [
  {
   "cell_type": "markdown",
   "id": "f6f4efb8",
   "metadata": {},
   "source": [
    "## Changing naming scheme"
   ]
  },
  {
   "cell_type": "code",
   "execution_count": null,
   "id": "087685b9",
   "metadata": {},
   "outputs": [
    {
     "name": "stdout",
     "output_type": "stream",
     "text": [
      "date_and_time is 2025-10-12_11-22-03-140543\n",
      "date is 25-10-12\n",
      "251012\n",
      "112203\n"
     ]
    }
   ],
   "source": [
    "import datetime\n",
    "import os\n",
    "\n",
    "# Build string for the filename\n",
    "grower_initials = 'JA' # Specified in pop up window right before starting the RHEED stream\n",
    "\n",
    "date_and_time = datetime.datetime.now().strftime('%Y-%m-%d_%H-%M-%S-%f')\n",
    "print(f'date_and_time is {date_and_time}')\n",
    "date = date_and_time[2:10]\n",
    "print(f'date is {date}')\n",
    "hyphen = '-'\n",
    "date_with_no_hyphens= date.replace(hyphen, \"\")\n",
    "print(str(date_with_no_hyphens))\n",
    "\n",
    "growth_identification_letter = 'A' # Specified in pop up window right before starting the RHEED stream\n",
    "\n",
    "temperature = get_pyrometer_temperature(self.pyrometer_app) + 'C'\n",
    "\n",
    "time = date_and_time[11:19]\n",
    "\n",
    "hyphen = '-'\n",
    "time_with_no_hyphens= time.replace(hyphen, \"\")\n",
    "print(time_with_no_hyphens)\n",
    "\n",
    "# Put it all together\n",
    "\n",
    "filename = grower_initials + date_with_no_hyphens + growth_identification_letter + '_' + temperature + '_' + time_with_no_hyphens\n",
    "\n",
    "\n",
    "\n",
    "\n",
    "\n",
    "# date = \n",
    "# print(date[2:])"
   ]
  }
 ],
 "metadata": {
  "kernelspec": {
   "display_name": "RHEED-Viewer",
   "language": "python",
   "name": "python3"
  },
  "language_info": {
   "codemirror_mode": {
    "name": "ipython",
    "version": 3
   },
   "file_extension": ".py",
   "mimetype": "text/x-python",
   "name": "python",
   "nbconvert_exporter": "python",
   "pygments_lexer": "ipython3",
   "version": "3.11.13"
  }
 },
 "nbformat": 4,
 "nbformat_minor": 5
}
